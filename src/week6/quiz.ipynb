{
 "cells": [
  {
   "cell_type": "code",
   "execution_count": 9,
   "metadata": {},
   "outputs": [
    {
     "name": "stdout",
     "output_type": "stream",
     "text": [
      "0.992907801418\n"
     ]
    }
   ],
   "source": [
    "def precision(true_positive, false_positive):\n",
    "    return true_positive / float(true_positive + false_positive)\n",
    "    \n",
    "\n",
    "def recall(true_positive, false_negative):\n",
    "    return true_positive / float(true_positive + false_negative)\n",
    "\n",
    "\n",
    "def accuracy(true_positive, true_negative, false_positive, false_negative):\n",
    "    return (true_positive + true_negative) / float(true_positive + true_negative + false_positive + false_negative)\n",
    "\n",
    "\n",
    "def per_class_accuracy(true_positive, true_negative, false_positive, false_negative):\n",
    "    true_class = true_positive / float(true_positive + false_negative)\n",
    "    false_class = true_negative / float(true_negative + false_positive)\n",
    "    return (true_class + false_class) / 2\n",
    "\n",
    "\n",
    "def asses_classifier(true_positive, true_negative, false_positive, false_negative):\n",
    "    print(\"precision=\", precision(true_positive, false_positive))\n",
    "    print(\"recall=\", recall(true_positive, false_negative))\n",
    "    print(\"accuracy=\", accuracy(true_positive, true_negative, false_positive, false_negative))\n",
    "    print(\"per class avg accuracy=\", per_class_accuracy(true_positive, true_negative, false_positive, false_negative))\n",
    "    \n",
    "print recall(5600, 40)"
   ]
  },
  {
   "cell_type": "code",
   "execution_count": 10,
   "metadata": {},
   "outputs": [
    {
     "name": "stdout",
     "output_type": "stream",
     "text": [
      "-----majority classifier---------\nprecision= 0.746666666667\nrecall= 1.0\naccuracy= 0.746666666667\nper class avg accuracy= 0.5\n-----classifier------------\nprecision= 0.746666666667\nrecall= 0.992907801418\naccuracy= 0.806\nper class avg accuracy= 0.778563992452\n"
     ]
    }
   ],
   "source": [
    "def majority_classifier(positive, negative):\n",
    "    true_positive, true_negative, false_positive, false_negative = 0, 0, 0, 0\n",
    "    if positive > negative:\n",
    "        true_positive = positive\n",
    "        false_positive = negative\n",
    "    else:\n",
    "        false_negative = positive\n",
    "        true_negative = negative\n",
    "    asses_classifier(true_positive, true_negative, false_positive, false_negative)\n",
    "\n",
    "print(\"-----majority classifier---------\")\n",
    "majority_classifier(5600, 1900)\n",
    "\n",
    "print(\"-----classifier------------\")\n",
    "asses_classifier(5600, 2460, 1900, 40)"
   ]
  },
  {
   "cell_type": "markdown",
   "metadata": {},
   "source": [
    "dlaczego precision jest takie samo pewine blad"
   ]
  },
  {
   "cell_type": "code",
   "execution_count": null,
   "metadata": {},
   "outputs": [],
   "source": [
    ""
   ]
  }
 ],
 "metadata": {},
 "nbformat": 4,
 "nbformat_minor": 0
}